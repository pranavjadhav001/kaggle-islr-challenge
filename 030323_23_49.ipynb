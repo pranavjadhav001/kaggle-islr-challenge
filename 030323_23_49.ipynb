{
 "cells": [
  {
   "cell_type": "code",
   "execution_count": 18,
   "metadata": {},
   "outputs": [],
   "source": [
    "import tensorflow as tf\n",
    "import pandas as pd\n",
    "import glob\n",
    "import json\n",
    "import numpy as np\n",
    "import random\n",
    "import os\n",
    "import tensorflow_io as tfio"
   ]
  },
  {
   "cell_type": "code",
   "execution_count": 19,
   "metadata": {},
   "outputs": [],
   "source": [
    "def seed_it_all(seed=7):\n",
    "    \"\"\" Attempt to be Reproducible \"\"\"\n",
    "    os.environ['PYTHONHASHSEED'] = str(seed)\n",
    "    random.seed(seed)\n",
    "    np.random.seed(seed)\n",
    "    tf.random.set_seed(seed)\n",
    "\n",
    "seed_it_all()"
   ]
  },
  {
   "cell_type": "code",
   "execution_count": 20,
   "metadata": {},
   "outputs": [],
   "source": [
    "class CFG:\n",
    "    left_ROWS_per_frame = 21\n",
    "    sequence_length = 30\n",
    "    batch_size = 32\n",
    "\n",
    "labels  = json.load(open('sign_to_prediction_index_map.json','r'))\n",
    "complete_df = pd.read_csv('train.csv')\n",
    "from sklearn.model_selection import train_test_split\n",
    "\n",
    "train_df, test_df = train_test_split(complete_df, test_size=0.2)"
   ]
  },
  {
   "cell_type": "code",
   "execution_count": 21,
   "metadata": {},
   "outputs": [],
   "source": [
    "def build_loader(with_labels=True):\n",
    "    def load_video(video_path):\n",
    "        #print('herer')\n",
    "        video_df = tfio.IODataset.from_parquet(video_path)\n",
    "        #video_df = pd.read_parquet(video_path, engine='pyarrow')\n",
    "        #video_df.fillna(0,inplace=True)\n",
    "        left_df = video_df[video_df.type=='left_hand']\n",
    "        left_values = left_df[['x','y','z']].values\n",
    "        left_values = left_values.reshape(-1,CFG.left_ROWS_per_frame,3)\n",
    "        left_hand_array =  tf.image.resize(left_values, (CFG.sequence_length, CFG.left_ROWS_per_frame))\n",
    "        right_df = video_df[video_df.type=='right_hand']\n",
    "        right_values = right_df[['x','y','z']].values\n",
    "        right_values = right_values.reshape(-1,CFG.left_ROWS_per_frame,3)\n",
    "        right_hand_array =  tf.image.resize(right_values, (CFG.sequence_length, CFG.left_ROWS_per_frame))\n",
    "        return [left_hand_array, right_hand_array]\n",
    "    \n",
    "    def load_video_with_labels(path, label):\n",
    "        return load_video(path), labels[label]\n",
    "    \n",
    "    return load_video_with_labels if with_labels else load_video"
   ]
  },
  {
   "cell_type": "code",
   "execution_count": 22,
   "metadata": {},
   "outputs": [],
   "source": [
    "class CustomData(tf.keras.utils.Sequence):\n",
    "    def __init__(self,df,num_frames=20,batch_size=8,shuffle=True,\\\n",
    "                 labels_path='sign_to_prediction_index_map.json'):\n",
    "        self.df = df\n",
    "        self.batch_size = batch_size\n",
    "        self.shuffle = shuffle\n",
    "        self.num_frames = num_frames\n",
    "        self.labels  = json.load(open('sign_to_prediction_index_map.json','r'))\n",
    "        self.on_epoch_end()\n",
    "        \n",
    "    def on_epoch_end(self):\n",
    "        self.indexes = np.arange(len(self.df))\n",
    "        if self.shuffle:\n",
    "            np.random.shuffle(self.indexes)\n",
    "    \n",
    "    def __getitem__(self,index):\n",
    "        batches = self.indexes[index*self.batch_size:(index+1)*self.batch_size]\n",
    "        left_hand_input = np.zeros(shape=(self.batch_size,self.num_frames,CFG.left_ROWS_per_frame,3))\n",
    "        right_hand_input = np.zeros(shape=(self.batch_size,self.num_frames,CFG.left_ROWS_per_frame,3))\n",
    "        labels = []\n",
    "        for i,row_val in enumerate(batches):\n",
    "            row = self.df.iloc[row_val]\n",
    "            left_hand,right_hand = self.load_video(row['path'])\n",
    "            left_hand_input[i,:] = left_hand\n",
    "            right_hand_input[i,:] = right_hand\n",
    "            labels.append(self.labels[row['sign']])\n",
    "        return [left_hand_input,right_hand_input],np.asarray(labels)\n",
    "            \n",
    "    def load_video(self,video_path):\n",
    "        video_df = pd.read_parquet(video_path, engine='pyarrow')\n",
    "        video_df.fillna(0,inplace=True)\n",
    "        left_df = video_df[video_df.type=='left_hand']\n",
    "        left_values = left_df[['x','y','z']].values\n",
    "        left_values = left_values.reshape(-1,CFG.left_ROWS_per_frame,3)\n",
    "        left_hand_array =  tf.image.resize(left_values, (CFG.sequence_length, CFG.left_ROWS_per_frame))\n",
    "        right_df = video_df[video_df.type=='right_hand']\n",
    "        right_values = right_df[['x','y','z']].values\n",
    "        right_values = right_values.reshape(-1,CFG.left_ROWS_per_frame,3)\n",
    "        right_hand_array =  tf.image.resize(right_values, (CFG.sequence_length, CFG.left_ROWS_per_frame))\n",
    "        return left_hand_array, right_hand_array\n",
    "    \n",
    "    def __len__(self):\n",
    "        return len(self.df)//self.batch_size"
   ]
  },
  {
   "cell_type": "code",
   "execution_count": 23,
   "metadata": {},
   "outputs": [],
   "source": [
    "train_datagen = CustomData(train_df,num_frames=CFG.sequence_length,batch_size=CFG.batch_size)\n",
    "test_datagen = CustomData(test_df,num_frames=CFG.sequence_length,batch_size=CFG.batch_size)"
   ]
  },
  {
   "cell_type": "code",
   "execution_count": 24,
   "metadata": {},
   "outputs": [],
   "source": [
    "def conv1d_lstm_block(inputs, filters):\n",
    "    vector = tf.keras.layers.ConvLSTM1D(filters=32, kernel_size=5)(inputs)\n",
    "    vector = tf.keras.layers.Dropout(0.1)(vector)\n",
    "    vector = tf.keras.layers.ConvLSTM1D(filters=64, kernel_size=5)(inputs)\n",
    "    vector = tf.keras.layers.Dropout(0.1)(vector)\n",
    "    return vector\n",
    "\n",
    "def get_model():\n",
    "    input1 = tf.keras.Input((CFG.sequence_length, CFG.left_ROWS_per_frame, 3), dtype=tf.float32)\n",
    "    input2 = tf.keras.Input((CFG.sequence_length, CFG.left_ROWS_per_frame, 3), dtype=tf.float32)\n",
    "    left_hand_vector = conv1d_lstm_block(input1, [64])\n",
    "    right_hand_vector = conv1d_lstm_block(input2, [64])\n",
    "    vector = tf.keras.layers.Concatenate(axis=1)([left_hand_vector, right_hand_vector])\n",
    "    vector = tf.keras.layers.Flatten()(vector)\n",
    "    output = tf.keras.layers.Dense(250, activation=\"softmax\")(vector)\n",
    "    model = tf.keras.Model(inputs=[input1,input2], outputs=output)\n",
    "    model.compile(tf.keras.optimizers.Adam(0.000333), \"sparse_categorical_crossentropy\", metrics=\"accuracy\")\n",
    "    return model"
   ]
  },
  {
   "cell_type": "code",
   "execution_count": 25,
   "metadata": {},
   "outputs": [],
   "source": [
    "model = get_model()"
   ]
  },
  {
   "cell_type": "code",
   "execution_count": 26,
   "metadata": {},
   "outputs": [
    {
     "name": "stdout",
     "output_type": "stream",
     "text": [
      "Model: \"model_1\"\n",
      "__________________________________________________________________________________________________\n",
      " Layer (type)                   Output Shape         Param #     Connected to                     \n",
      "==================================================================================================\n",
      " input_3 (InputLayer)           [(None, 30, 21, 3)]  0           []                               \n",
      "                                                                                                  \n",
      " input_4 (InputLayer)           [(None, 30, 21, 3)]  0           []                               \n",
      "                                                                                                  \n",
      " conv_lstm1d_5 (ConvLSTM1D)     (None, 17, 64)       86016       ['input_3[0][0]']                \n",
      "                                                                                                  \n",
      " conv_lstm1d_7 (ConvLSTM1D)     (None, 17, 64)       86016       ['input_4[0][0]']                \n",
      "                                                                                                  \n",
      " dropout_5 (Dropout)            (None, 17, 64)       0           ['conv_lstm1d_5[0][0]']          \n",
      "                                                                                                  \n",
      " dropout_7 (Dropout)            (None, 17, 64)       0           ['conv_lstm1d_7[0][0]']          \n",
      "                                                                                                  \n",
      " concatenate_1 (Concatenate)    (None, 34, 64)       0           ['dropout_5[0][0]',              \n",
      "                                                                  'dropout_7[0][0]']              \n",
      "                                                                                                  \n",
      " flatten_1 (Flatten)            (None, 2176)         0           ['concatenate_1[0][0]']          \n",
      "                                                                                                  \n",
      " dense_1 (Dense)                (None, 250)          544250      ['flatten_1[0][0]']              \n",
      "                                                                                                  \n",
      "==================================================================================================\n",
      "Total params: 716,282\n",
      "Trainable params: 716,282\n",
      "Non-trainable params: 0\n",
      "__________________________________________________________________________________________________\n"
     ]
    }
   ],
   "source": [
    "model.summary()"
   ]
  },
  {
   "cell_type": "code",
   "execution_count": 27,
   "metadata": {},
   "outputs": [
    {
     "name": "stdout",
     "output_type": "stream",
     "text": [
      "Epoch 1/30\n",
      "2361/2361 [==============================] - ETA: 0s - loss: 4.0823 - accuracy: 0.1467\n",
      "Epoch 1: val_accuracy improved from -inf to 0.26372, saving model to 030323_23_49.h5\n",
      "2361/2361 [==============================] - 1131s 478ms/step - loss: 4.0823 - accuracy: 0.1467 - val_loss: 3.2251 - val_accuracy: 0.2637 - lr: 3.3300e-04\n",
      "Epoch 2/30\n",
      "2361/2361 [==============================] - ETA: 0s - loss: 2.9399 - accuracy: 0.3171\n",
      "Epoch 2: val_accuracy improved from 0.26372 to 0.35651, saving model to 030323_23_49.h5\n",
      "2361/2361 [==============================] - 1095s 464ms/step - loss: 2.9399 - accuracy: 0.3171 - val_loss: 2.7477 - val_accuracy: 0.3565 - lr: 3.3300e-04\n",
      "Epoch 3/30\n",
      "2361/2361 [==============================] - ETA: 0s - loss: 2.5223 - accuracy: 0.4002\n",
      "Epoch 3: val_accuracy improved from 0.35651 to 0.40005, saving model to 030323_23_49.h5\n",
      "2361/2361 [==============================] - 1092s 462ms/step - loss: 2.5223 - accuracy: 0.4002 - val_loss: 2.5161 - val_accuracy: 0.4001 - lr: 3.3300e-04\n",
      "Epoch 4/30\n",
      "2361/2361 [==============================] - ETA: 0s - loss: 2.2687 - accuracy: 0.4535\n",
      "Epoch 4: val_accuracy improved from 0.40005 to 0.43400, saving model to 030323_23_49.h5\n",
      "2361/2361 [==============================] - 1092s 463ms/step - loss: 2.2687 - accuracy: 0.4535 - val_loss: 2.3708 - val_accuracy: 0.4340 - lr: 3.3300e-04\n",
      "Epoch 5/30\n",
      "2361/2361 [==============================] - ETA: 0s - loss: 2.0813 - accuracy: 0.4903\n",
      "Epoch 5: val_accuracy improved from 0.43400 to 0.46091, saving model to 030323_23_49.h5\n",
      "2361/2361 [==============================] - 1091s 462ms/step - loss: 2.0813 - accuracy: 0.4903 - val_loss: 2.2460 - val_accuracy: 0.4609 - lr: 3.3300e-04\n",
      "Epoch 6/30\n",
      "2361/2361 [==============================] - ETA: 0s - loss: 1.9267 - accuracy: 0.5238\n",
      "Epoch 6: val_accuracy improved from 0.46091 to 0.48141, saving model to 030323_23_49.h5\n",
      "2361/2361 [==============================] - 1085s 460ms/step - loss: 1.9267 - accuracy: 0.5238 - val_loss: 2.1499 - val_accuracy: 0.4814 - lr: 3.3300e-04\n",
      "Epoch 7/30\n",
      "2361/2361 [==============================] - ETA: 0s - loss: 1.8015 - accuracy: 0.5506\n",
      "Epoch 7: val_accuracy improved from 0.48141 to 0.49115, saving model to 030323_23_49.h5\n",
      "2361/2361 [==============================] - 1085s 460ms/step - loss: 1.8015 - accuracy: 0.5506 - val_loss: 2.1291 - val_accuracy: 0.4912 - lr: 3.3300e-04\n",
      "Epoch 8/30\n",
      "2361/2361 [==============================] - ETA: 0s - loss: 1.6854 - accuracy: 0.5749\n",
      "Epoch 8: val_accuracy improved from 0.49115 to 0.49905, saving model to 030323_23_49.h5\n",
      "2361/2361 [==============================] - 1082s 458ms/step - loss: 1.6854 - accuracy: 0.5749 - val_loss: 2.0963 - val_accuracy: 0.4990 - lr: 3.3300e-04\n",
      "Epoch 9/30\n",
      "2361/2361 [==============================] - ETA: 0s - loss: 1.5869 - accuracy: 0.5965\n",
      "Epoch 9: val_accuracy did not improve from 0.49905\n",
      "2361/2361 [==============================] - 1083s 459ms/step - loss: 1.5869 - accuracy: 0.5965 - val_loss: 2.0942 - val_accuracy: 0.4941 - lr: 3.3300e-04\n",
      "Epoch 10/30\n",
      "2361/2361 [==============================] - ETA: 0s - loss: 1.4956 - accuracy: 0.6148\n",
      "Epoch 10: val_accuracy improved from 0.49905 to 0.51552, saving model to 030323_23_49.h5\n",
      "2361/2361 [==============================] - 1087s 461ms/step - loss: 1.4956 - accuracy: 0.6148 - val_loss: 2.0406 - val_accuracy: 0.5155 - lr: 3.3300e-04\n",
      "Epoch 11/30\n",
      "2361/2361 [==============================] - ETA: 0s - loss: 1.4163 - accuracy: 0.6340\n",
      "Epoch 11: val_accuracy improved from 0.51552 to 0.51965, saving model to 030323_23_49.h5\n",
      "2361/2361 [==============================] - 1089s 461ms/step - loss: 1.4163 - accuracy: 0.6340 - val_loss: 2.0089 - val_accuracy: 0.5197 - lr: 3.3300e-04\n",
      "Epoch 12/30\n",
      "2361/2361 [==============================] - ETA: 0s - loss: 1.3415 - accuracy: 0.6518\n",
      "Epoch 12: val_accuracy improved from 0.51965 to 0.52373, saving model to 030323_23_49.h5\n",
      "2361/2361 [==============================] - 1095s 464ms/step - loss: 1.3415 - accuracy: 0.6518 - val_loss: 2.0176 - val_accuracy: 0.5237 - lr: 3.3300e-04\n",
      "Epoch 13/30\n",
      "2361/2361 [==============================] - ETA: 0s - loss: 1.2685 - accuracy: 0.6676\n",
      "Epoch 13: val_accuracy improved from 0.52373 to 0.52516, saving model to 030323_23_49.h5\n",
      "2361/2361 [==============================] - 1090s 462ms/step - loss: 1.2685 - accuracy: 0.6676 - val_loss: 2.0240 - val_accuracy: 0.5252 - lr: 3.3300e-04\n",
      "Epoch 14/30\n",
      "2361/2361 [==============================] - ETA: 0s - loss: 1.2088 - accuracy: 0.6814\n",
      "Epoch 14: val_accuracy improved from 0.52516 to 0.53189, saving model to 030323_23_49.h5\n",
      "2361/2361 [==============================] - 1091s 462ms/step - loss: 1.2088 - accuracy: 0.6814 - val_loss: 2.0096 - val_accuracy: 0.5319 - lr: 3.3300e-04\n",
      "Epoch 15/30\n",
      "2361/2361 [==============================] - ETA: 0s - loss: 1.1438 - accuracy: 0.6968\n",
      "Epoch 15: val_accuracy did not improve from 0.53189\n",
      "2361/2361 [==============================] - 1088s 461ms/step - loss: 1.1438 - accuracy: 0.6968 - val_loss: 2.0255 - val_accuracy: 0.5274 - lr: 3.3300e-04\n",
      "Epoch 16/30\n",
      "2361/2361 [==============================] - ETA: 0s - loss: 1.0843 - accuracy: 0.7112\n",
      "Epoch 16: val_accuracy improved from 0.53189 to 0.53528, saving model to 030323_23_49.h5\n",
      "2361/2361 [==============================] - 1093s 463ms/step - loss: 1.0843 - accuracy: 0.7112 - val_loss: 1.9943 - val_accuracy: 0.5353 - lr: 3.3300e-04\n",
      "Epoch 17/30\n",
      "2361/2361 [==============================] - ETA: 0s - loss: 1.0298 - accuracy: 0.7240\n",
      "Epoch 17: val_accuracy did not improve from 0.53528\n",
      "2361/2361 [==============================] - 1093s 463ms/step - loss: 1.0298 - accuracy: 0.7240 - val_loss: 2.0232 - val_accuracy: 0.5336 - lr: 3.3300e-04\n",
      "Epoch 18/30\n",
      "2361/2361 [==============================] - ETA: 0s - loss: 0.9798 - accuracy: 0.7371\n",
      "Epoch 18: val_accuracy did not improve from 0.53528\n",
      "2361/2361 [==============================] - 1091s 462ms/step - loss: 0.9798 - accuracy: 0.7371 - val_loss: 2.0616 - val_accuracy: 0.5344 - lr: 3.3300e-04\n",
      "Epoch 19/30\n",
      "2361/2361 [==============================] - ETA: 0s - loss: 0.9297 - accuracy: 0.7499\n",
      "Epoch 19: val_accuracy improved from 0.53528 to 0.54142, saving model to 030323_23_49.h5\n",
      "2361/2361 [==============================] - 1091s 462ms/step - loss: 0.9297 - accuracy: 0.7499 - val_loss: 2.0175 - val_accuracy: 0.5414 - lr: 3.3300e-04\n",
      "Epoch 20/30\n",
      "2361/2361 [==============================] - ETA: 0s - loss: 0.8925 - accuracy: 0.7599\n",
      "Epoch 20: val_accuracy did not improve from 0.54142\n",
      "2361/2361 [==============================] - 1091s 462ms/step - loss: 0.8925 - accuracy: 0.7599 - val_loss: 2.0950 - val_accuracy: 0.5329 - lr: 3.3300e-04\n",
      "Epoch 21/30\n",
      "2361/2361 [==============================] - ETA: 0s - loss: 0.8489 - accuracy: 0.7712\n",
      "Epoch 21: val_accuracy did not improve from 0.54142\n",
      "2361/2361 [==============================] - 1093s 463ms/step - loss: 0.8489 - accuracy: 0.7712 - val_loss: 2.0604 - val_accuracy: 0.5379 - lr: 3.3300e-04\n",
      "Epoch 22/30\n",
      "2361/2361 [==============================] - ETA: 0s - loss: 0.8108 - accuracy: 0.7812\n",
      "Epoch 22: val_accuracy did not improve from 0.54142\n",
      "2361/2361 [==============================] - 1095s 464ms/step - loss: 0.8108 - accuracy: 0.7812 - val_loss: 2.1240 - val_accuracy: 0.5345 - lr: 3.3300e-04\n",
      "Epoch 23/30\n",
      "2361/2361 [==============================] - ETA: 0s - loss: 0.7734 - accuracy: 0.7883\n",
      "Epoch 23: val_accuracy did not improve from 0.54142\n",
      "2361/2361 [==============================] - 1092s 463ms/step - loss: 0.7734 - accuracy: 0.7883 - val_loss: 2.1239 - val_accuracy: 0.5358 - lr: 3.3300e-04\n",
      "Epoch 24/30\n",
      "2361/2361 [==============================] - ETA: 0s - loss: 0.7417 - accuracy: 0.7991\n",
      "Epoch 24: val_accuracy did not improve from 0.54142\n",
      "\n",
      "Epoch 24: ReduceLROnPlateau reducing learning rate to 3.330000035930425e-05.\n",
      "2361/2361 [==============================] - 1092s 462ms/step - loss: 0.7417 - accuracy: 0.7991 - val_loss: 2.1271 - val_accuracy: 0.5400 - lr: 3.3300e-04\n"
     ]
    }
   ],
   "source": [
    "file_name = \"030323_23_49.h5\"\n",
    "callbacks = [\n",
    "    tf.keras.callbacks.ModelCheckpoint(\n",
    "        file_name, \n",
    "        save_best_only=True, \n",
    "        monitor=\"val_accuracy\",\n",
    "        mode=\"max\",\n",
    "        verbose = 1\n",
    "    ),\n",
    "    tf.keras.callbacks.EarlyStopping(\n",
    "        patience=5, \n",
    "        monitor=\"val_accuracy\",\n",
    "        mode=\"max\"\n",
    "    ),\n",
    "    tf.keras.callbacks.ReduceLROnPlateau(monitor='val_accuracy', factor=0.1,mode='max',verbose=1,\n",
    "                              patience=5, min_lr=0.000001)\n",
    "]\n",
    "model.fit(train_datagen,validation_data=test_datagen,\\\n",
    "          epochs=30, callbacks=callbacks)\n",
    "model = tf.keras.models.load_model(file_name)"
   ]
  },
  {
   "cell_type": "code",
   "execution_count": null,
   "metadata": {},
   "outputs": [],
   "source": [
    "x,y = datagen[0]"
   ]
  },
  {
   "cell_type": "code",
   "execution_count": null,
   "metadata": {},
   "outputs": [],
   "source": [
    "video_df = pd.read_parquet('train_landmark_files/16069/100015657.parquet', engine='pyarrow')\n",
    "video_df.fillna(0,inplace=True)\n",
    "left_df = video_df[video_df.type=='left_hand']\n",
    "left_values = left_df[['x','y','z']].values\n",
    "left_values_array = left_values.reshape(-1,21,3)"
   ]
  },
  {
   "cell_type": "code",
   "execution_count": 18,
   "metadata": {},
   "outputs": [],
   "source": [
    "vector = tf.image.resize(left_values_array, (22, 21))"
   ]
  },
  {
   "cell_type": "code",
   "execution_count": 33,
   "metadata": {},
   "outputs": [
    {
     "ename": "NameError",
     "evalue": "name 'Y' is not defined",
     "output_type": "error",
     "traceback": [
      "\u001b[0;31m---------------------------------------------------------------------------\u001b[0m",
      "\u001b[0;31mNameError\u001b[0m                                 Traceback (most recent call last)",
      "Cell \u001b[0;32mIn [33], line 1\u001b[0m\n\u001b[0;32m----> 1\u001b[0m \u001b[43mY\u001b[49m\u001b[38;5;241m.\u001b[39mshape\n",
      "\u001b[0;31mNameError\u001b[0m: name 'Y' is not defined"
     ]
    }
   ],
   "source": [
    "Y.shape"
   ]
  },
  {
   "cell_type": "code",
   "execution_count": null,
   "metadata": {},
   "outputs": [],
   "source": []
  }
 ],
 "metadata": {
  "kernelspec": {
   "display_name": "Python 3 (ipykernel)",
   "language": "python",
   "name": "python3"
  },
  "language_info": {
   "codemirror_mode": {
    "name": "ipython",
    "version": 3
   },
   "file_extension": ".py",
   "mimetype": "text/x-python",
   "name": "python",
   "nbconvert_exporter": "python",
   "pygments_lexer": "ipython3",
   "version": "3.8.10"
  }
 },
 "nbformat": 4,
 "nbformat_minor": 2
}
